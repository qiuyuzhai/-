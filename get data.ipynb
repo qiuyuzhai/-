{
 "cells": [
  {
   "cell_type": "code",
   "execution_count": 15,
   "id": "fe54cb06",
   "metadata": {},
   "outputs": [],
   "source": [
    "from alpha_vantage.timeseries import TimeSeries\n",
    "import pandas as pd\n",
    "\n",
    "api_key = '9OX3OJ2IZVJABG2P' \n",
    "ts = TimeSeries(key=api_key, output_format='pandas')\n",
    "# 使用 get_daily 方法获取数据\n",
    "data, _ = ts.get_daily(symbol='AAPL', outputsize='full')\n",
    "\n",
    "start_date = '2024-01-01'\n",
    "end_date = '2024-12-31'\n",
    "df = data.loc[(data.index >= start_date) & (data.index <= end_date)]\n",
    "\n",
    "# 去掉列名中的序号\n",
    "df.columns = [col.split('. ')[-1] for col in df.columns]\n",
    "\n",
    "df.to_csv(\"AAPL.csv\")"
   ]
  }
 ],
 "metadata": {
  "kernelspec": {
   "display_name": "Python 3",
   "language": "python",
   "name": "python3"
  },
  "language_info": {
   "codemirror_mode": {
    "name": "ipython",
    "version": 3
   },
   "file_extension": ".py",
   "mimetype": "text/x-python",
   "name": "python",
   "nbconvert_exporter": "python",
   "pygments_lexer": "ipython3",
   "version": "3.11.9"
  }
 },
 "nbformat": 4,
 "nbformat_minor": 5
}
