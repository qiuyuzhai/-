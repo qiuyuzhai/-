{
 "cells": [
  {
   "cell_type": "markdown",
   "id": "7c0ee277",
   "metadata": {},
   "source": [
    "用google使用alpha_vantage，输入学校和邮件后自动跳出API！！！"
   ]
  },
  {
   "cell_type": "code",
   "execution_count": 1,
   "id": "fe54cb06",
   "metadata": {},
   "outputs": [],
   "source": [
    "from alpha_vantage.timeseries import TimeSeries\n",
    "import pandas as pd\n",
    "\n",
    "api_key = '9OX3OJ2IZVJABG2P' \n",
    "ts = TimeSeries(key=api_key, output_format='pandas')\n",
    "# 使用 get_daily 方法获取数据\n",
    "data, _ = ts.get_daily(symbol='AAPL', outputsize='full')\n",
    "\n",
    "start_date = '2024-01-01'\n",
    "end_date = '2024-12-31'\n",
    "df = data.loc[(data.index >= start_date) & (data.index <= end_date)]\n",
    "\n",
    "# 去掉列名中的序号\n",
    "df.columns = [col.split('. ')[-1] for col in df.columns]\n",
    "\n",
    "df.to_csv(\"AAPL_2024.csv\")"
   ]
  },
  {
   "cell_type": "code",
   "execution_count": 11,
   "id": "7b60fcc6",
   "metadata": {},
   "outputs": [
    {
     "name": "stdout",
     "output_type": "stream",
     "text": [
      "成功保存S&P500数据，包含5032条记录\n"
     ]
    }
   ],
   "source": [
    "from alpha_vantage.timeseries import TimeSeries\n",
    "import pandas as pd\n",
    "\n",
    "# 替换为你的Alpha Vantage API密钥（示例密钥可能已失效）\n",
    "api_key = '67J3VCREOPXCD1GD'  \n",
    "ts = TimeSeries(key=api_key, output_format='pandas')\n",
    "\n",
    "# 获取S&P500每日数据\n",
    "data, _ = ts.get_daily(symbol='SPY', outputsize='full')\n",
    "\n",
    "# 设定时间范围（匹配文献数据时间跨度2001-2020，此处延长至2024年）\n",
    "start_date = '2001-01-01'\n",
    "end_date = '2020-12-31'\n",
    "df = data.loc[(data.index >= start_date) & (data.index <= end_date)]\n",
    "\n",
    "# 清洗列名（去除序号前缀，如'1. open'改为'open'）\n",
    "df.columns = [col.split('. ')[-1] for col in df.columns]\n",
    "\n",
    "# 保存为CSV文件\n",
    "df.to_csv(\"SP500.csv\", index_label=\"date\")\n",
    "\n",
    "print(f\"成功保存S&P500数据，包含{len(df)}条记录\")"
   ]
  }
 ],
 "metadata": {
  "kernelspec": {
   "display_name": "Python 3",
   "language": "python",
   "name": "python3"
  },
  "language_info": {
   "codemirror_mode": {
    "name": "ipython",
    "version": 3
   },
   "file_extension": ".py",
   "mimetype": "text/x-python",
   "name": "python",
   "nbconvert_exporter": "python",
   "pygments_lexer": "ipython3",
   "version": "3.11.9"
  }
 },
 "nbformat": 4,
 "nbformat_minor": 5
}
