{
 "cells": [
  {
   "cell_type": "code",
   "execution_count": null,
   "id": "9da9a998",
   "metadata": {},
   "outputs": [],
   "source": [
    "import numpy as np\n",
    "import pandas as pd\n",
    "from tensorflow.keras.models import Sequential\n",
    "from tensorflow.keras.layers import SimpleRNN, Dense\n",
    "from sklearn.preprocessing import MinMaxScaler\n",
    "from sklearn.metrics import mean_absolute_error, mean_squared_error\n",
    "from p_ftd import calculate_volatility, add_padding, perform_fft, apply_threshold, inverse_fft, remove_padding\n",
    "import matplotlib.pyplot as plt"
   ]
  },
  {
   "cell_type": "code",
   "execution_count": null,
   "id": "dcde454a",
   "metadata": {},
   "outputs": [],
   "source": [
    "# 1. 数据读取与预处理 \n",
    "# 读取SP500指数数据，解析日期列\n",
    "df = pd.read_csv('SP500.csv', parse_dates=['date'])\n",
    "# 按日期升序排序\n",
    "df.sort_values('date', inplace=True)\n",
    "\n",
    "# 选择特征列：开盘价、最高价、最低价、收盘价、成交量\n",
    "features = ['open', 'high', 'low', 'close', 'volume']\n",
    "# 目标预测列为收盘价\n",
    "target_col = 'close'\n",
    "\n",
    "# 提取特征数据和目标数据\n",
    "data = df[features].values  # shape: (n_samples, 5)\n",
    "target = df[target_col].values\n",
    "dates = df['date']\n",
    "n_samples = len(data)\n",
    "\n",
    "# P-FTD去噪算法的默认参数\n",
    "# N: 计算波动率的窗口大小\n",
    "# m: 填充长度参数\n",
    "# epsilon: 频域阈值参数\n",
    "N = 40\n",
    "m = 40\n",
    "epsilon = 0.2"
   ]
  },
  {
   "cell_type": "code",
   "execution_count": null,
   "id": "79cdcf04",
   "metadata": {},
   "outputs": [],
   "source": [
    "# 2. 使用 P-FTD 去噪 close 列 ----------------\n",
    "def p_ftd_denoise_pipeline(data_array, N, m, epsilon):\n",
    "    sigma1, sigma2 = calculate_volatility(data_array, N)\n",
    "    padded = add_padding(data_array, sigma1, sigma2, m)\n",
    "    fft_result = perform_fft(padded)\n",
    "    filtered_fft = apply_threshold(fft_result, epsilon)\n",
    "    denoised_padded = inverse_fft(filtered_fft)\n",
    "    denoised = remove_padding(denoised_padded, len(data_array), m)\n",
    "    return denoised\n",
    "\n",
    "# 对收盘价进行去噪处理\n",
    "denoised_close = p_ftd_denoise_pipeline(target, N, m, epsilon)\n",
    "\n",
    "# 创建去噪后的完整数据集，仅替换收盘价列\n",
    "data_denoised = data.copy()\n",
    "data_denoised[:, 3] = denoised_close"
   ]
  },
  {
   "cell_type": "code",
   "execution_count": null,
   "id": "37b37fb2",
   "metadata": {},
   "outputs": [],
   "source": [
    "# 3. 归一化：多特征整体归一化\n",
    "# 使用Min-Max缩放将数据归一化到[0,1]范围\n",
    "scaler = MinMaxScaler()\n",
    "scaled_data = scaler.fit_transform(data)  # 原始数据归一化\n",
    "scaled_denoised = scaler.transform(data_denoised)  # 去噪数据归一化"
   ]
  },
  {
   "cell_type": "code",
   "execution_count": null,
   "id": "1030c25f",
   "metadata": {},
   "outputs": [],
   "source": [
    "#4. 构造时间序列数据 \n",
    "time_step = 20  # 使用前20天数据预测下一天，约等于一个月交易日\n",
    "\n",
    "def create_dataset(multivariate_data, time_step=20, target_index=3):\n",
    "    \"\"\"\n",
    "    构建时序数据集：\n",
    "    - X: 输入特征，shape=(样本数, 时间步长, 特征数)\n",
    "    - y: 目标值，shape=(样本数,)\n",
    "    \"\"\"\n",
    "    X, y = [], []\n",
    "    for i in range(len(multivariate_data) - time_step - 1):\n",
    "        X.append(multivariate_data[i:(i + time_step), :])  # 历史特征\n",
    "        y.append(multivariate_data[i + time_step, target_index])  # 未来收盘价\n",
    "    return np.array(X), np.array(y)\n",
    "\n",
    "# 为原始数据和去噪数据分别创建时序数据集\n",
    "X_raw, y_raw = create_dataset(scaled_data, time_step)\n",
    "X_denoised, y_denoised = create_dataset(scaled_denoised, time_step)"
   ]
  }
 ],
 "metadata": {
  "language_info": {
   "name": "python"
  }
 },
 "nbformat": 4,
 "nbformat_minor": 5
}
