{
 "cells": [
  {
   "cell_type": "code",
   "execution_count": 1,
   "id": "6e5817e5",
   "metadata": {},
   "outputs": [],
   "source": [
    "# ✅ Step 1: 导入依赖项\n",
    "import numpy as np\n",
    "import pandas as pd\n",
    "import random\n",
    "from sklearn.preprocessing import MinMaxScaler\n",
    "from sklearn.metrics import mean_absolute_error, mean_squared_error\n",
    "from tensorflow.keras.models import Sequential\n",
    "from tensorflow.keras.layers import LSTM, GRU, Dense\n",
    "from tensorflow.keras.optimizers import Adam\n",
    "import tensorflow as tf\n"
   ]
  },
  {
   "cell_type": "code",
   "execution_count": 2,
   "id": "d82402fc",
   "metadata": {},
   "outputs": [],
   "source": [
    "# ✅ Step 2: 设置随机种子（确保可复现）\n",
    "np.random.seed(42)\n",
    "random.seed(42)\n",
    "tf.random.set_seed(42)\n"
   ]
  },
  {
   "cell_type": "code",
   "execution_count": 3,
   "id": "fc957164",
   "metadata": {},
   "outputs": [],
   "source": [
    "# ✅ Step 3: 读取数据并对齐文献时间\n",
    "df = pd.read_csv(\"SP500.csv\", parse_dates=[\"date\"])\n",
    "df.sort_values(\"date\", inplace=True)\n",
    "\n",
    "df = df[[\"date\", \"open\", \"high\", \"low\", \"close\", \"volume\"]]\n",
    "df.reset_index(drop=True, inplace=True)\n",
    "\n",
    "features = ['open', 'high', 'low', 'close', 'volume']\n",
    "target_col = 'close'\n",
    "target = df[target_col].values\n",
    "dates = df['date']\n"
   ]
  },
  {
   "cell_type": "code",
   "execution_count": 4,
   "id": "faeaa298",
   "metadata": {},
   "outputs": [],
   "source": [
    "# ✅ Step 4: 定义 P-FTD\n",
    "def calculate_volatility(data, n):\n",
    "    x1 = data[:n]\n",
    "    x_1 = np.sqrt(np.sum(x1) / n)\n",
    "    sigma1 = np.sqrt(np.sum(x1 - x_1) / n)\n",
    "\n",
    "    x2 = data[-n:]\n",
    "    x_2 = np.sqrt(np.sum(x2) / n)\n",
    "    sigma2 = np.sqrt(np.sum((x2 - x_2)) / n)\n",
    "\n",
    "    return sigma1, sigma2\n",
    "\n",
    "def add_padding(data, sigma1, sigma2, m):\n",
    "    padding_front = [data[0] + np.random.normal(0, np.sqrt(sigma1))]\n",
    "    for _ in range(1, m):\n",
    "        padding_front.append(padding_front[-1] + np.random.normal(0, np.sqrt(sigma1)))\n",
    "\n",
    "    padding_back = [data[-1] + np.random.normal(0, np.sqrt(sigma2))]\n",
    "    for _ in range(1, m):\n",
    "        padding_back.append(padding_back[-1] + np.random.normal(0, np.sqrt(sigma2)))\n",
    "\n",
    "    return np.concatenate([padding_front[::-1], data, padding_back])\n",
    "\n",
    "def perform_fft(data):\n",
    "    fft_result = np.fft.fft(data)\n",
    "    frequencies = np.fft.fftfreq(len(data), d=1)\n",
    "    amplitude = np.abs(np.fft.fftshift(fft_result))\n",
    "    return {'frequencies': frequencies, 'amplitude': amplitude, 'fft_result': fft_result}\n",
    "\n",
    "def apply_threshold(fft_data, epsilon):\n",
    "    frequencies = fft_data['frequencies']\n",
    "    fft_result = fft_data['fft_result']\n",
    "    filtered_fft_result = np.zeros_like(fft_result, dtype=complex)\n",
    "    for k in range(len(frequencies)):\n",
    "        if np.abs(frequencies[k]) > epsilon:\n",
    "            filtered_fft_result[k] = fft_result[k]\n",
    "    return {'frequencies': frequencies, 'amplitude': np.abs(filtered_fft_result), 'fft_result': filtered_fft_result}\n",
    "\n",
    "def inverse_fft(fft_filtered_data):\n",
    "    return np.fft.ifft(fft_filtered_data['fft_result']).real\n",
    "\n",
    "def remove_padding(denoised_padded, original_length, m):\n",
    "    return denoised_padded[m:m + original_length]\n"
   ]
  },
  {
   "cell_type": "code",
   "execution_count": 5,
   "id": "6aa50bd2",
   "metadata": {},
   "outputs": [],
   "source": [
    "# ✅ Step 5: 应用 P-FTD 去噪（N=40, m=40, ε=0.2）\n",
    "n, m, epsilon = 40, 40, 0.2\n",
    "sigma1, sigma2 = calculate_volatility(target, n)\n",
    "padded_data = add_padding(target, sigma1, sigma2, m)\n",
    "fft_data = perform_fft(padded_data)\n",
    "filtered_fft_data = apply_threshold(fft_data, epsilon)\n",
    "denoised_padded = inverse_fft(filtered_fft_data)\n",
    "denoised_data = remove_padding(denoised_padded, len(target), m)\n"
   ]
  },
  {
   "cell_type": "code",
   "execution_count": 6,
   "id": "69f12dc2",
   "metadata": {},
   "outputs": [],
   "source": [
    "# ✅ Step 6: 构造滑动窗口数据\n",
    "def create_sequences(data, lookback=20):\n",
    "    X, y = [], []\n",
    "    for i in range(len(data) - lookback):\n",
    "        X.append(data[i:i+lookback])\n",
    "        y.append(data[i+lookback])\n",
    "    return np.array(X), np.array(y)\n"
   ]
  },
  {
   "cell_type": "code",
   "execution_count": 7,
   "id": "a875f5ac",
   "metadata": {},
   "outputs": [],
   "source": [
    "# ✅ Step 7: 定义模型训练 + 还原误差计算\n",
    "def evaluate_model(data, model_type='LSTM', lookback=20):\n",
    "    scaler = MinMaxScaler()\n",
    "    scaled = scaler.fit_transform(data.reshape(-1, 1))\n",
    "\n",
    "    X, y = create_sequences(scaled, lookback)\n",
    "    total_len = len(X)\n",
    "    train_end = int(total_len * 0.7)\n",
    "    val_end = int(total_len * 0.8)\n",
    "\n",
    "    X_train, X_val, X_test = X[:train_end], X[train_end:val_end], X[val_end:]\n",
    "    y_train, y_val, y_test = y[:train_end], y[train_end:val_end], y[val_end:]\n",
    "\n",
    "    X_train = X_train.reshape((-1, lookback, 1))\n",
    "    X_val = X_val.reshape((-1, lookback, 1))\n",
    "    X_test = X_test.reshape((-1, lookback, 1))\n",
    "\n",
    "    model = Sequential()\n",
    "    if model_type == 'LSTM':\n",
    "        model.add(LSTM(10, input_shape=(lookback, 1)))\n",
    "    else:\n",
    "        model.add(GRU(10, input_shape=(lookback, 1)))\n",
    "    model.add(Dense(1))\n",
    "    model.compile(optimizer=Adam(learning_rate=0.001), loss='mse')\n",
    "\n",
    "    model.fit(X_train, y_train, validation_data=(X_val, y_val),\n",
    "              epochs=100, batch_size=32, verbose=0,\n",
    "              callbacks=tf.keras.callbacks.EarlyStopping(patience=20, restore_best_weights=True))\n",
    "\n",
    "    y_pred = model.predict(X_test)\n",
    "    y_pred_inv = scaler.inverse_transform(y_pred).flatten()\n",
    "    y_test_inv = scaler.inverse_transform(y_test.reshape(-1, 1)).flatten()\n",
    "\n",
    "    mae = mean_absolute_error(y_test_inv, y_pred_inv)\n",
    "    rmse = np.sqrt(mean_squared_error(y_test_inv, y_pred_inv))\n",
    "    return mae, rmse\n"
   ]
  },
  {
   "cell_type": "code",
   "execution_count": 8,
   "id": "ca1d45ff",
   "metadata": {},
   "outputs": [
    {
     "name": "stderr",
     "output_type": "stream",
     "text": [
      "C:\\Users\\86137\\AppData\\Local\\Packages\\PythonSoftwareFoundation.Python.3.11_qbz5n2kfra8p0\\LocalCache\\local-packages\\Python311\\site-packages\\keras\\src\\layers\\rnn\\rnn.py:200: UserWarning: Do not pass an `input_shape`/`input_dim` argument to a layer. When using Sequential models, prefer using an `Input(shape)` object as the first layer in the model instead.\n",
      "  super().__init__(**kwargs)\n"
     ]
    },
    {
     "name": "stdout",
     "output_type": "stream",
     "text": [
      "\u001b[1m31/31\u001b[0m \u001b[32m━━━━━━━━━━━━━━━━━━━━\u001b[0m\u001b[37m\u001b[0m \u001b[1m0s\u001b[0m 10ms/step\n"
     ]
    },
    {
     "name": "stderr",
     "output_type": "stream",
     "text": [
      "C:\\Users\\86137\\AppData\\Local\\Packages\\PythonSoftwareFoundation.Python.3.11_qbz5n2kfra8p0\\LocalCache\\local-packages\\Python311\\site-packages\\keras\\src\\layers\\rnn\\rnn.py:200: UserWarning: Do not pass an `input_shape`/`input_dim` argument to a layer. When using Sequential models, prefer using an `Input(shape)` object as the first layer in the model instead.\n",
      "  super().__init__(**kwargs)\n"
     ]
    },
    {
     "name": "stdout",
     "output_type": "stream",
     "text": [
      "\u001b[1m31/31\u001b[0m \u001b[32m━━━━━━━━━━━━━━━━━━━━\u001b[0m\u001b[37m\u001b[0m \u001b[1m1s\u001b[0m 11ms/step\n"
     ]
    },
    {
     "name": "stderr",
     "output_type": "stream",
     "text": [
      "C:\\Users\\86137\\AppData\\Local\\Packages\\PythonSoftwareFoundation.Python.3.11_qbz5n2kfra8p0\\LocalCache\\local-packages\\Python311\\site-packages\\keras\\src\\layers\\rnn\\rnn.py:200: UserWarning: Do not pass an `input_shape`/`input_dim` argument to a layer. When using Sequential models, prefer using an `Input(shape)` object as the first layer in the model instead.\n",
      "  super().__init__(**kwargs)\n"
     ]
    },
    {
     "name": "stdout",
     "output_type": "stream",
     "text": [
      "\u001b[1m31/31\u001b[0m \u001b[32m━━━━━━━━━━━━━━━━━━━━\u001b[0m\u001b[37m\u001b[0m \u001b[1m0s\u001b[0m 9ms/step\n"
     ]
    },
    {
     "name": "stderr",
     "output_type": "stream",
     "text": [
      "C:\\Users\\86137\\AppData\\Local\\Packages\\PythonSoftwareFoundation.Python.3.11_qbz5n2kfra8p0\\LocalCache\\local-packages\\Python311\\site-packages\\keras\\src\\layers\\rnn\\rnn.py:200: UserWarning: Do not pass an `input_shape`/`input_dim` argument to a layer. When using Sequential models, prefer using an `Input(shape)` object as the first layer in the model instead.\n",
      "  super().__init__(**kwargs)\n"
     ]
    },
    {
     "name": "stdout",
     "output_type": "stream",
     "text": [
      "\u001b[1m31/31\u001b[0m \u001b[32m━━━━━━━━━━━━━━━━━━━━\u001b[0m\u001b[37m\u001b[0m \u001b[1m1s\u001b[0m 12ms/step\n"
     ]
    }
   ],
   "source": [
    "# ✅ Step 8: 比较四个模型的表现\n",
    "mae_lstm, rmse_lstm = evaluate_model(target, 'LSTM')\n",
    "mae_gru, rmse_gru = evaluate_model(target, 'GRU')\n",
    "mae_pftd_lstm, rmse_pftd_lstm = evaluate_model(denoised_data, 'LSTM')\n",
    "mae_pftd_gru, rmse_pftd_gru = evaluate_model(denoised_data, 'GRU')\n"
   ]
  },
  {
   "cell_type": "code",
   "execution_count": 9,
   "id": "cdea9171",
   "metadata": {},
   "outputs": [
    {
     "name": "stdout",
     "output_type": "stream",
     "text": [
      "S&P500预测性能对比（2001–2020）:\n",
      "模型                          MAE       RMSE\n",
      "----------------------------------------\n",
      "LSTM                     4.6213     5.7135\n",
      "GRU                      4.7565     5.8181\n",
      "P-FTD_LSTM               0.3633     0.6641\n",
      "P-FTD_GRU                0.4524     0.7794\n"
     ]
    }
   ],
   "source": [
    "# ✅ Step 9: 输出最终对比结果\n",
    "print(\"S&P500预测性能对比（2001–2020）:\")\n",
    "print(f\"{'模型':<20} {'MAE':>10} {'RMSE':>10}\")\n",
    "print(\"-\" * 40)\n",
    "print(f\"{'LSTM':<20} {mae_lstm:10.4f} {rmse_lstm:10.4f}\")\n",
    "print(f\"{'GRU':<20} {mae_gru:10.4f} {rmse_gru:10.4f}\")\n",
    "print(f\"{'P-FTD_LSTM':<20} {mae_pftd_lstm:10.4f} {rmse_pftd_lstm:10.4f}\")\n",
    "print(f\"{'P-FTD_GRU':<20} {mae_pftd_gru:10.4f} {rmse_pftd_gru:10.4f}\")\n"
   ]
  }
 ],
 "metadata": {
  "kernelspec": {
   "display_name": "Python 3",
   "language": "python",
   "name": "python3"
  },
  "language_info": {
   "codemirror_mode": {
    "name": "ipython",
    "version": 3
   },
   "file_extension": ".py",
   "mimetype": "text/x-python",
   "name": "python",
   "nbconvert_exporter": "python",
   "pygments_lexer": "ipython3",
   "version": "3.11.9"
  }
 },
 "nbformat": 4,
 "nbformat_minor": 5
}
